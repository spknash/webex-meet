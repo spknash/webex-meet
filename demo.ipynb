{
 "cells": [
  {
   "cell_type": "code",
   "execution_count": 2,
   "metadata": {},
   "outputs": [],
   "source": [
    "from flask import Flask, request, render_template\n",
    "import requests\n",
    "import threading\n",
    "import json\n",
    "\n",
    "app = Flask(__name__)\n"
   ]
  },
  {
   "cell_type": "code",
   "execution_count": 3,
   "metadata": {},
   "outputs": [
    {
     "name": "stdout",
     "output_type": "stream",
     "text": [
      " * Serving Flask app \"__main__\" (lazy loading)\n",
      " * Environment: production\n"
     ]
    },
    {
     "name": "stdout",
     "output_type": "stream",
     "text": [
      "\u001b[31m   WARNING: This is a development server. Do not use it in a production deployment.\u001b[0m\n",
      "\u001b[2m   Use a production WSGI server instead.\u001b[0m\n",
      " * Debug mode: off\n"
     ]
    },
    {
     "name": "stderr",
     "output_type": "stream",
     "text": [
      " * Running on http://127.0.0.1:5000/ (Press CTRL+C to quit)\n",
      "127.0.0.1 - - [25/Jul/2023 14:27:16] \"GET / HTTP/1.1\" 200 -\n",
      "127.0.0.1 - - [25/Jul/2023 14:27:48] \"POST /schedule_meeting HTTP/1.1\" 200 -\n"
     ]
    }
   ],
   "source": [
    "\n",
    "@app.route('/')\n",
    "def home():\n",
    "    return render_template('index.html')\n",
    "\n",
    "@app.route('/schedule_meeting', methods=['POST'])\n",
    "def schedule_meeting():\n",
    "    # The URL to create a meeting\n",
    "    url = 'https://webexapis.com/v1/meetings'\n",
    "\n",
    "    # Your access token\n",
    "    access_token = 'YOUR_ACCESS_TOKEN'\n",
    "\n",
    "    # The headers for the API request\n",
    "    headers = {\n",
    "        'Authorization': 'Bearer {}'.format(access_token),\n",
    "        'Content-Type': 'application/json'\n",
    "    }\n",
    "\n",
    "    # Extract the invitees from the form submission\n",
    "    invitees = []\n",
    "    i = 1\n",
    "    while True:\n",
    "        email = request.form.get(f'invitee{i}')\n",
    "        if not email:\n",
    "            break\n",
    "        invitees.append({\n",
    "            'email': email,\n",
    "            'displayName': email.split('@')[0]  # Simple way to create a display name\n",
    "        })\n",
    "        i += 1\n",
    "\n",
    "    # The details of the meeting\n",
    "    meeting_details = {\n",
    "        'title': 'My Meeting',\n",
    "        'start': '2023-12-03T12:00:00.000Z',\n",
    "        'end': '2023-12-03T13:00:00.000Z',\n",
    "        'enabledAutoRecordMeeting': False,\n",
    "        'allowAnyUserToBeCoHost': False,\n",
    "        'invitees': invitees\n",
    "    }\n",
    "\n",
    "    # Send the POST request to the Webex API\n",
    "    response = requests.post(url, headers=headers, data=json.dumps(meeting_details))\n",
    "\n",
    "    # Return the response from the API\n",
    "    if response.status_code == 200:\n",
    "        return 'Meeting created successfully'\n",
    "    else:\n",
    "        return 'Failed to create meeting'\n",
    "\n",
    "def run_flask():\n",
    "    app.run(port=5000)\n",
    "\n",
    "thread = threading.Thread(target=run_flask)\n",
    "thread.start()\n"
   ]
  },
  {
   "cell_type": "code",
   "execution_count": null,
   "metadata": {},
   "outputs": [],
   "source": []
  }
 ],
 "metadata": {
  "kernelspec": {
   "display_name": "base",
   "language": "python",
   "name": "python3"
  },
  "language_info": {
   "codemirror_mode": {
    "name": "ipython",
    "version": 3
   },
   "file_extension": ".py",
   "mimetype": "text/x-python",
   "name": "python",
   "nbconvert_exporter": "python",
   "pygments_lexer": "ipython3",
   "version": "3.9.12"
  },
  "orig_nbformat": 4
 },
 "nbformat": 4,
 "nbformat_minor": 2
}
